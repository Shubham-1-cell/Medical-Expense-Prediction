{
 "cells": [
  {
   "cell_type": "markdown",
   "metadata": {},
   "source": [
    "<h1><center> Medical Health Expenses</h1></center>\n",
    "\n",
    "* ## Predict the future medical expenses of patients based on certain features.\n",
    "\n",
    "\n",
    "1. Factors affecting the medical expenses of the patients:-\n",
    "2. Age\n",
    "3. Gender\n",
    "4. Body Mass Index\n",
    "5. Region\n",
    "6. Smoking Behaviour\n",
    "\n",
    "<center><img src=\"img.jpg\"/></center>"
   ]
  },
  {
   "cell_type": "code",
   "execution_count": 2,
   "metadata": {},
   "outputs": [],
   "source": [
    "# import the required libraries\n",
    "\n",
    "# for mathemaical operations\n",
    "import numpy as np\n",
    "# for dataframe manipulations\n",
    "import pandas as pd\n",
    "\n",
    "# for data visualizations\n",
    "import seaborn as sns\n",
    "import matplotlib.pyplot as plt\n",
    "import plotly.express as px\n",
    "\n",
    "# setting parameters for visualization\n",
    "plt.rcParams['figure.figsize'] = (16, 5)\n",
    "plt.style.use('seaborn-paper')\n",
    "\n"
   ]
  },
  {
   "cell_type": "code",
   "execution_count": 3,
   "metadata": {},
   "outputs": [
    {
     "data": {
      "text/plain": [
       "(1338, 7)"
      ]
     },
     "execution_count": 3,
     "metadata": {},
     "output_type": "execute_result"
    }
   ],
   "source": [
    "# lets read the data set\n",
    "data = pd.read_csv('med-insurance.csv')\n",
    "data.shape"
   ]
  },
  {
   "cell_type": "code",
   "execution_count": 4,
   "metadata": {},
   "outputs": [
    {
     "data": {
      "text/html": [
       "<div>\n",
       "<style scoped>\n",
       "    .dataframe tbody tr th:only-of-type {\n",
       "        vertical-align: middle;\n",
       "    }\n",
       "\n",
       "    .dataframe tbody tr th {\n",
       "        vertical-align: top;\n",
       "    }\n",
       "\n",
       "    .dataframe thead th {\n",
       "        text-align: right;\n",
       "    }\n",
       "</style>\n",
       "<table border=\"1\" class=\"dataframe\">\n",
       "  <thead>\n",
       "    <tr style=\"text-align: right;\">\n",
       "      <th></th>\n",
       "      <th>age</th>\n",
       "      <th>sex</th>\n",
       "      <th>bmi</th>\n",
       "      <th>children</th>\n",
       "      <th>smoker</th>\n",
       "      <th>region</th>\n",
       "      <th>expenses</th>\n",
       "    </tr>\n",
       "  </thead>\n",
       "  <tbody>\n",
       "    <tr>\n",
       "      <th>0</th>\n",
       "      <td>19</td>\n",
       "      <td>female</td>\n",
       "      <td>27.9</td>\n",
       "      <td>0</td>\n",
       "      <td>yes</td>\n",
       "      <td>southwest</td>\n",
       "      <td>16884.92</td>\n",
       "    </tr>\n",
       "    <tr>\n",
       "      <th>1</th>\n",
       "      <td>18</td>\n",
       "      <td>male</td>\n",
       "      <td>33.8</td>\n",
       "      <td>1</td>\n",
       "      <td>no</td>\n",
       "      <td>southeast</td>\n",
       "      <td>1725.55</td>\n",
       "    </tr>\n",
       "    <tr>\n",
       "      <th>2</th>\n",
       "      <td>28</td>\n",
       "      <td>male</td>\n",
       "      <td>33.0</td>\n",
       "      <td>3</td>\n",
       "      <td>no</td>\n",
       "      <td>southeast</td>\n",
       "      <td>4449.46</td>\n",
       "    </tr>\n",
       "    <tr>\n",
       "      <th>3</th>\n",
       "      <td>33</td>\n",
       "      <td>male</td>\n",
       "      <td>22.7</td>\n",
       "      <td>0</td>\n",
       "      <td>no</td>\n",
       "      <td>northwest</td>\n",
       "      <td>21984.47</td>\n",
       "    </tr>\n",
       "    <tr>\n",
       "      <th>4</th>\n",
       "      <td>32</td>\n",
       "      <td>male</td>\n",
       "      <td>28.9</td>\n",
       "      <td>0</td>\n",
       "      <td>no</td>\n",
       "      <td>northwest</td>\n",
       "      <td>3866.86</td>\n",
       "    </tr>\n",
       "  </tbody>\n",
       "</table>\n",
       "</div>"
      ],
      "text/plain": [
       "   age     sex   bmi  children smoker     region  expenses\n",
       "0   19  female  27.9         0    yes  southwest  16884.92\n",
       "1   18    male  33.8         1     no  southeast   1725.55\n",
       "2   28    male  33.0         3     no  southeast   4449.46\n",
       "3   33    male  22.7         0     no  northwest  21984.47\n",
       "4   32    male  28.9         0     no  northwest   3866.86"
      ]
     },
     "execution_count": 4,
     "metadata": {},
     "output_type": "execute_result"
    }
   ],
   "source": [
    "data.head()"
   ]
  },
  {
   "cell_type": "code",
   "execution_count": 5,
   "metadata": {},
   "outputs": [
    {
     "data": {
      "text/plain": [
       "age         0\n",
       "sex         0\n",
       "bmi         0\n",
       "children    0\n",
       "smoker      0\n",
       "region      0\n",
       "expenses    0\n",
       "dtype: int64"
      ]
     },
     "execution_count": 5,
     "metadata": {},
     "output_type": "execute_result"
    }
   ],
   "source": [
    "data.isnull().sum()"
   ]
  },
  {
   "cell_type": "code",
   "execution_count": 6,
   "metadata": {},
   "outputs": [
    {
     "data": {
      "text/html": [
       "<style type=\"text/css\">\n",
       "#T_bb83d_row0_col0, #T_bb83d_row0_col1, #T_bb83d_row0_col2, #T_bb83d_row7_col3 {\n",
       "  background-color: #08306b;\n",
       "  color: #f1f1f1;\n",
       "}\n",
       "#T_bb83d_row0_col3, #T_bb83d_row1_col2, #T_bb83d_row2_col0, #T_bb83d_row2_col1, #T_bb83d_row2_col2, #T_bb83d_row3_col0, #T_bb83d_row3_col2, #T_bb83d_row3_col3, #T_bb83d_row4_col2, #T_bb83d_row5_col2, #T_bb83d_row6_col2, #T_bb83d_row7_col2 {\n",
       "  background-color: #f7fbff;\n",
       "  color: #000000;\n",
       "}\n",
       "#T_bb83d_row1_col0, #T_bb83d_row1_col1, #T_bb83d_row5_col0, #T_bb83d_row5_col1 {\n",
       "  background-color: #f4f9fe;\n",
       "  color: #000000;\n",
       "}\n",
       "#T_bb83d_row1_col3 {\n",
       "  background-color: #d1e2f3;\n",
       "  color: #000000;\n",
       "}\n",
       "#T_bb83d_row2_col3 {\n",
       "  background-color: #d5e5f4;\n",
       "  color: #000000;\n",
       "}\n",
       "#T_bb83d_row3_col1 {\n",
       "  background-color: #f6faff;\n",
       "  color: #000000;\n",
       "}\n",
       "#T_bb83d_row4_col0 {\n",
       "  background-color: #f5fafe;\n",
       "  color: #000000;\n",
       "}\n",
       "#T_bb83d_row4_col1 {\n",
       "  background-color: #f5f9fe;\n",
       "  color: #000000;\n",
       "}\n",
       "#T_bb83d_row4_col3 {\n",
       "  background-color: #ecf4fb;\n",
       "  color: #000000;\n",
       "}\n",
       "#T_bb83d_row5_col3 {\n",
       "  background-color: #ddeaf7;\n",
       "  color: #000000;\n",
       "}\n",
       "#T_bb83d_row6_col0 {\n",
       "  background-color: #f2f7fd;\n",
       "  color: #000000;\n",
       "}\n",
       "#T_bb83d_row6_col1 {\n",
       "  background-color: #f3f8fe;\n",
       "  color: #000000;\n",
       "}\n",
       "#T_bb83d_row6_col3 {\n",
       "  background-color: #c7dbef;\n",
       "  color: #000000;\n",
       "}\n",
       "#T_bb83d_row7_col0, #T_bb83d_row7_col1 {\n",
       "  background-color: #f0f6fd;\n",
       "  color: #000000;\n",
       "}\n",
       "</style>\n",
       "<table id=\"T_bb83d_\">\n",
       "  <thead>\n",
       "    <tr>\n",
       "      <th class=\"blank level0\" >&nbsp;</th>\n",
       "      <th class=\"col_heading level0 col0\" >age</th>\n",
       "      <th class=\"col_heading level0 col1\" >bmi</th>\n",
       "      <th class=\"col_heading level0 col2\" >children</th>\n",
       "      <th class=\"col_heading level0 col3\" >expenses</th>\n",
       "    </tr>\n",
       "  </thead>\n",
       "  <tbody>\n",
       "    <tr>\n",
       "      <th id=\"T_bb83d_level0_row0\" class=\"row_heading level0 row0\" >count</th>\n",
       "      <td id=\"T_bb83d_row0_col0\" class=\"data row0 col0\" >1338.000000</td>\n",
       "      <td id=\"T_bb83d_row0_col1\" class=\"data row0 col1\" >1338.000000</td>\n",
       "      <td id=\"T_bb83d_row0_col2\" class=\"data row0 col2\" >1338.000000</td>\n",
       "      <td id=\"T_bb83d_row0_col3\" class=\"data row0 col3\" >1338.000000</td>\n",
       "    </tr>\n",
       "    <tr>\n",
       "      <th id=\"T_bb83d_level0_row1\" class=\"row_heading level0 row1\" >mean</th>\n",
       "      <td id=\"T_bb83d_row1_col0\" class=\"data row1 col0\" >39.207025</td>\n",
       "      <td id=\"T_bb83d_row1_col1\" class=\"data row1 col1\" >30.665471</td>\n",
       "      <td id=\"T_bb83d_row1_col2\" class=\"data row1 col2\" >1.094918</td>\n",
       "      <td id=\"T_bb83d_row1_col3\" class=\"data row1 col3\" >13270.422414</td>\n",
       "    </tr>\n",
       "    <tr>\n",
       "      <th id=\"T_bb83d_level0_row2\" class=\"row_heading level0 row2\" >std</th>\n",
       "      <td id=\"T_bb83d_row2_col0\" class=\"data row2 col0\" >14.049960</td>\n",
       "      <td id=\"T_bb83d_row2_col1\" class=\"data row2 col1\" >6.098382</td>\n",
       "      <td id=\"T_bb83d_row2_col2\" class=\"data row2 col2\" >1.205493</td>\n",
       "      <td id=\"T_bb83d_row2_col3\" class=\"data row2 col3\" >12110.011240</td>\n",
       "    </tr>\n",
       "    <tr>\n",
       "      <th id=\"T_bb83d_level0_row3\" class=\"row_heading level0 row3\" >min</th>\n",
       "      <td id=\"T_bb83d_row3_col0\" class=\"data row3 col0\" >18.000000</td>\n",
       "      <td id=\"T_bb83d_row3_col1\" class=\"data row3 col1\" >16.000000</td>\n",
       "      <td id=\"T_bb83d_row3_col2\" class=\"data row3 col2\" >0.000000</td>\n",
       "      <td id=\"T_bb83d_row3_col3\" class=\"data row3 col3\" >1121.870000</td>\n",
       "    </tr>\n",
       "    <tr>\n",
       "      <th id=\"T_bb83d_level0_row4\" class=\"row_heading level0 row4\" >25%</th>\n",
       "      <td id=\"T_bb83d_row4_col0\" class=\"data row4 col0\" >27.000000</td>\n",
       "      <td id=\"T_bb83d_row4_col1\" class=\"data row4 col1\" >26.300000</td>\n",
       "      <td id=\"T_bb83d_row4_col2\" class=\"data row4 col2\" >0.000000</td>\n",
       "      <td id=\"T_bb83d_row4_col3\" class=\"data row4 col3\" >4740.287500</td>\n",
       "    </tr>\n",
       "    <tr>\n",
       "      <th id=\"T_bb83d_level0_row5\" class=\"row_heading level0 row5\" >50%</th>\n",
       "      <td id=\"T_bb83d_row5_col0\" class=\"data row5 col0\" >39.000000</td>\n",
       "      <td id=\"T_bb83d_row5_col1\" class=\"data row5 col1\" >30.400000</td>\n",
       "      <td id=\"T_bb83d_row5_col2\" class=\"data row5 col2\" >1.000000</td>\n",
       "      <td id=\"T_bb83d_row5_col3\" class=\"data row5 col3\" >9382.030000</td>\n",
       "    </tr>\n",
       "    <tr>\n",
       "      <th id=\"T_bb83d_level0_row6\" class=\"row_heading level0 row6\" >75%</th>\n",
       "      <td id=\"T_bb83d_row6_col0\" class=\"data row6 col0\" >51.000000</td>\n",
       "      <td id=\"T_bb83d_row6_col1\" class=\"data row6 col1\" >34.700000</td>\n",
       "      <td id=\"T_bb83d_row6_col2\" class=\"data row6 col2\" >2.000000</td>\n",
       "      <td id=\"T_bb83d_row6_col3\" class=\"data row6 col3\" >16639.915000</td>\n",
       "    </tr>\n",
       "    <tr>\n",
       "      <th id=\"T_bb83d_level0_row7\" class=\"row_heading level0 row7\" >max</th>\n",
       "      <td id=\"T_bb83d_row7_col0\" class=\"data row7 col0\" >64.000000</td>\n",
       "      <td id=\"T_bb83d_row7_col1\" class=\"data row7 col1\" >53.100000</td>\n",
       "      <td id=\"T_bb83d_row7_col2\" class=\"data row7 col2\" >5.000000</td>\n",
       "      <td id=\"T_bb83d_row7_col3\" class=\"data row7 col3\" >63770.430000</td>\n",
       "    </tr>\n",
       "  </tbody>\n",
       "</table>\n"
      ],
      "text/plain": [
       "<pandas.io.formats.style.Styler at 0x2097b045be0>"
      ]
     },
     "execution_count": 6,
     "metadata": {},
     "output_type": "execute_result"
    }
   ],
   "source": [
    "# lets check the descriptive summary\n",
    "data.describe().style.background_gradient(cmap = 'Blues')"
   ]
  },
  {
   "cell_type": "code",
   "execution_count": 7,
   "metadata": {},
   "outputs": [
    {
     "name": "stderr",
     "output_type": "stream",
     "text": [
      "c:\\users\\sks4u\\appdata\\local\\programs\\python\\python39\\lib\\site-packages\\seaborn\\_decorators.py:36: FutureWarning: Pass the following variable as a keyword arg: x. From version 0.12, the only valid positional argument will be `data`, and passing other arguments without an explicit keyword will result in an error or misinterpretation.\n",
      "  warnings.warn(\n"
     ]
    },
    {
     "data": {
      "image/png": "[encoded data removed]",
      "text/plain": [
       "<Figure size 460.8x316.8 with 3 Axes>"
      ]
     },
     "metadata": {
      "needs_background": "light"
     },
     "output_type": "display_data"
    }
   ],
   "source": [
    "# lets check the distribution of smoker, children and region\n",
    "\n",
    "plt.subplot(1, 3, 1)\n",
    "plt.pie(data['smoker'].value_counts().values,\n",
    "        labels = data['smoker'].value_counts().index,\n",
    "        colors = ['gold','silver'],\n",
    "        startangle = 90,\n",
    "        shadow = True,\n",
    "       explode = [0.1, 0])\n",
    "\n",
    "plt.subplot(1, 3, 2)\n",
    "sns.countplot(data['children'], palette = 'magma')\n",
    "plt.grid()\n",
    "\n",
    "plt.subplot(1, 3, 3)\n",
    "plt.pie(data['region'].value_counts().values,\n",
    "        labels = data['region'].value_counts().index,\n",
    "        colors = ['gold','silver','grey','black'],\n",
    "        startangle = 90,\n",
    "        shadow = True,\n",
    "       explode = [0.1, 0, 0, 0])\n",
    "plt.suptitle('Distribution of Smoker, Children and Regions', fontsize = 15)\n",
    "plt.show()"
   ]
  },
  {
   "cell_type": "code",
   "execution_count": 8,
   "metadata": {},
   "outputs": [
    {
     "name": "stderr",
     "output_type": "stream",
     "text": [
      "c:\\users\\sks4u\\appdata\\local\\programs\\python\\python39\\lib\\site-packages\\seaborn\\distributions.py:2557: FutureWarning: `distplot` is a deprecated function and will be removed in a future version. Please adapt your code to use either `displot` (a figure-level function with similar flexibility) or `histplot` (an axes-level function for histograms).\n",
      "  warnings.warn(msg, FutureWarning)\n",
      "c:\\users\\sks4u\\appdata\\local\\programs\\python\\python39\\lib\\site-packages\\seaborn\\distributions.py:2557: FutureWarning: `distplot` is a deprecated function and will be removed in a future version. Please adapt your code to use either `displot` (a figure-level function with similar flexibility) or `histplot` (an axes-level function for histograms).\n",
      "  warnings.warn(msg, FutureWarning)\n",
      "c:\\users\\sks4u\\appdata\\local\\programs\\python\\python39\\lib\\site-packages\\seaborn\\distributions.py:2557: FutureWarning: `distplot` is a deprecated function and will be removed in a future version. Please adapt your code to use either `displot` (a figure-level function with similar flexibility) or `histplot` (an axes-level function for histograms).\n",
      "  warnings.warn(msg, FutureWarning)\n"
     ]
    },
    {
     "data": {
      "image/png": "[encoded data removed]",
      "text/plain": [
       "<Figure size 460.8x316.8 with 3 Axes>"
      ]
     },
     "metadata": {
      "needs_background": "light"
     },
     "output_type": "display_data"
    }
   ],
   "source": [
    "# lets check the distribution of age, bmi and expenses\n",
    "\n",
    "plt.subplot(1, 3, 1)\n",
    "sns.distplot(data['age'], color = 'black')\n",
    "plt.xlabel('Age')\n",
    "plt.grid()\n",
    "\n",
    "plt.subplot(1, 3, 2)\n",
    "sns.distplot(data['bmi'], color = 'orange')\n",
    "plt.xlabel('BMI')\n",
    "plt.grid()\n",
    "\n",
    "plt.subplot(1, 3, 3)\n",
    "sns.distplot(data['expenses'], color = 'aqua')\n",
    "plt.xlabel('Expenses')\n",
    "plt.grid()\n",
    "\n",
    "plt.suptitle('Distribution of Age, BMI, and Expenses', fontsize = 15)\n",
    "plt.show()"
   ]
  },
  {
   "cell_type": "code",
   "execution_count": 10,
   "metadata": {},
   "outputs": [
    {
     "ename": "AttributeError",
     "evalue": "module 'seaborn' has no attribute 'scatter'",
     "output_type": "error",
     "traceback": [
      "\u001b[1;31m---------------------------------------------------------------------------\u001b[0m",
      "\u001b[1;31mAttributeError\u001b[0m                            Traceback (most recent call last)",
      "\u001b[1;32m~\\AppData\\Local\\Temp/ipykernel_6052/3208621148.py\u001b[0m in \u001b[0;36m<module>\u001b[1;34m\u001b[0m\n\u001b[0;32m      1\u001b[0m \u001b[1;31m# lets understand the impact of age on Medical Expenses\u001b[0m\u001b[1;33m\u001b[0m\u001b[1;33m\u001b[0m\u001b[1;33m\u001b[0m\u001b[0m\n\u001b[1;32m----> 2\u001b[1;33m sns.scatter(data, y = 'expenses',\n\u001b[0m\u001b[0;32m      3\u001b[0m            \u001b[0mx\u001b[0m \u001b[1;33m=\u001b[0m \u001b[1;34m'age'\u001b[0m\u001b[1;33m,\u001b[0m\u001b[1;33m\u001b[0m\u001b[1;33m\u001b[0m\u001b[0m\n\u001b[0;32m      4\u001b[0m            \u001b[0mmarginal_y\u001b[0m \u001b[1;33m=\u001b[0m \u001b[1;34m'violin'\u001b[0m\u001b[1;33m,\u001b[0m\u001b[1;33m\u001b[0m\u001b[1;33m\u001b[0m\u001b[0m\n\u001b[0;32m      5\u001b[0m            trendline = 'ols')\n",
      "\u001b[1;31mAttributeError\u001b[0m: module 'seaborn' has no attribute 'scatter'"
     ]
    }
   ],
   "source": [
    "# lets understand the impact of age on Medical Expenses\n",
    "sns.scatter(data, y = 'expenses',\n",
    "           x = 'age',\n",
    "           marginal_y = 'violin',\n",
    "           trendline = 'ols')"
   ]
  },
  {
   "cell_type": "code",
   "execution_count": null,
   "metadata": {},
   "outputs": [],
   "source": []
  }
 ],
 "metadata": {
  "interpreter": {
   "hash": "349fa99260b57ee1fbf59b6ab239d73af329deaad73a50d9da700240410fb0c3"
  },
  "kernelspec": {
   "display_name": "Python 3 (ipykernel)",
   "language": "python",
   "name": "python3"
  },
  "language_info": {
   "codemirror_mode": {
    "name": "ipython",
    "version": 3
   },
   "file_extension": ".py",
   "mimetype": "text/x-python",
   "name": "python",
   "nbconvert_exporter": "python",
   "pygments_lexer": "ipython3",
   "version": "3.9.5"
  }
 },
 "nbformat": 4,
 "nbformat_minor": 2
}
