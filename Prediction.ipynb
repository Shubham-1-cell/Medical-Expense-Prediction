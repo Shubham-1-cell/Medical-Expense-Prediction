{
 "cells": [
  {
   "cell_type": "markdown",
   "source": [
    "<h1><center> Medical Health Expenses</h1></center>\r\n",
    "\r\n",
    "* ## Predict the future medical expenses of patients based on certain features.\r\n",
    "\r\n",
    "\r\n",
    "1. Factors affecting the medical expenses of the patients:-\r\n",
    "2. Age\r\n",
    "3. Gender\r\n",
    "4. Body Mass Index\r\n",
    "5. Region\r\n",
    "6. Smoking Behaviour\r\n",
    "\r\n",
    "<center><img src=\"img.jpg\"/></center>"
   ],
   "metadata": {}
  },
  {
   "cell_type": "code",
   "execution_count": 2,
   "source": [
    "# import the required libraries\r\n",
    "\r\n",
    "# for mathemaical operations\r\n",
    "import numpy as np\r\n",
    "# for dataframe manipulations\r\n",
    "import pandas as pd\r\n",
    "\r\n",
    "# for data visualizations\r\n",
    "import seaborn as sns\r\n",
    "import matplotlib.pyplot as plt\r\n",
    "import plotly.express as px\r\n",
    "\r\n",
    "# setting parameters for visualization\r\n",
    "plt.rcParams['figure.figsize'] = (16, 5)\r\n",
    "plt.style.use('seaborn-paper')"
   ],
   "outputs": [],
   "metadata": {}
  },
  {
   "cell_type": "code",
   "execution_count": 3,
   "source": [
    "# lets read the data set\r\n",
    "data = pd.read_csv('med-insurance.csv')\r\n",
    "data.shape"
   ],
   "outputs": [
    {
     "output_type": "execute_result",
     "data": {
      "text/plain": [
       "(1338, 7)"
      ]
     },
     "metadata": {},
     "execution_count": 3
    }
   ],
   "metadata": {}
  },
  {
   "cell_type": "code",
   "execution_count": 5,
   "source": [
    "data.head()"
   ],
   "outputs": [
    {
     "output_type": "execute_result",
     "data": {
      "text/plain": [
       "   age     sex   bmi  children smoker     region  expenses\n",
       "0   19  female  27.9         0    yes  southwest  16884.92\n",
       "1   18    male  33.8         1     no  southeast   1725.55\n",
       "2   28    male  33.0         3     no  southeast   4449.46\n",
       "3   33    male  22.7         0     no  northwest  21984.47\n",
       "4   32    male  28.9         0     no  northwest   3866.86"
      ],
      "text/html": [
       "<div>\n",
       "<style scoped>\n",
       "    .dataframe tbody tr th:only-of-type {\n",
       "        vertical-align: middle;\n",
       "    }\n",
       "\n",
       "    .dataframe tbody tr th {\n",
       "        vertical-align: top;\n",
       "    }\n",
       "\n",
       "    .dataframe thead th {\n",
       "        text-align: right;\n",
       "    }\n",
       "</style>\n",
       "<table border=\"1\" class=\"dataframe\">\n",
       "  <thead>\n",
       "    <tr style=\"text-align: right;\">\n",
       "      <th></th>\n",
       "      <th>age</th>\n",
       "      <th>sex</th>\n",
       "      <th>bmi</th>\n",
       "      <th>children</th>\n",
       "      <th>smoker</th>\n",
       "      <th>region</th>\n",
       "      <th>expenses</th>\n",
       "    </tr>\n",
       "  </thead>\n",
       "  <tbody>\n",
       "    <tr>\n",
       "      <th>0</th>\n",
       "      <td>19</td>\n",
       "      <td>female</td>\n",
       "      <td>27.9</td>\n",
       "      <td>0</td>\n",
       "      <td>yes</td>\n",
       "      <td>southwest</td>\n",
       "      <td>16884.92</td>\n",
       "    </tr>\n",
       "    <tr>\n",
       "      <th>1</th>\n",
       "      <td>18</td>\n",
       "      <td>male</td>\n",
       "      <td>33.8</td>\n",
       "      <td>1</td>\n",
       "      <td>no</td>\n",
       "      <td>southeast</td>\n",
       "      <td>1725.55</td>\n",
       "    </tr>\n",
       "    <tr>\n",
       "      <th>2</th>\n",
       "      <td>28</td>\n",
       "      <td>male</td>\n",
       "      <td>33.0</td>\n",
       "      <td>3</td>\n",
       "      <td>no</td>\n",
       "      <td>southeast</td>\n",
       "      <td>4449.46</td>\n",
       "    </tr>\n",
       "    <tr>\n",
       "      <th>3</th>\n",
       "      <td>33</td>\n",
       "      <td>male</td>\n",
       "      <td>22.7</td>\n",
       "      <td>0</td>\n",
       "      <td>no</td>\n",
       "      <td>northwest</td>\n",
       "      <td>21984.47</td>\n",
       "    </tr>\n",
       "    <tr>\n",
       "      <th>4</th>\n",
       "      <td>32</td>\n",
       "      <td>male</td>\n",
       "      <td>28.9</td>\n",
       "      <td>0</td>\n",
       "      <td>no</td>\n",
       "      <td>northwest</td>\n",
       "      <td>3866.86</td>\n",
       "    </tr>\n",
       "  </tbody>\n",
       "</table>\n",
       "</div>"
      ]
     },
     "metadata": {},
     "execution_count": 5
    }
   ],
   "metadata": {}
  },
  {
   "cell_type": "code",
   "execution_count": 7,
   "source": [
    "data.isnull().sum()"
   ],
   "outputs": [
    {
     "output_type": "execute_result",
     "data": {
      "text/plain": [
       "age         0\n",
       "sex         0\n",
       "bmi         0\n",
       "children    0\n",
       "smoker      0\n",
       "region      0\n",
       "expenses    0\n",
       "dtype: int64"
      ]
     },
     "metadata": {},
     "execution_count": 7
    }
   ],
   "metadata": {}
  },
  {
   "cell_type": "code",
   "execution_count": 8,
   "source": [
    "# lets check the descriptive summary\r\n",
    "data.describe().style.background_gradient(cmap = 'Blues')"
   ],
   "outputs": [
    {
     "output_type": "execute_result",
     "data": {
      "text/plain": [
       "<pandas.io.formats.style.Styler at 0x22275ad83d0>"
      ],
      "text/html": [
       "<style type=\"text/css\">\n",
       "#T_3cfd0_row0_col0, #T_3cfd0_row0_col1, #T_3cfd0_row0_col2, #T_3cfd0_row7_col3 {\n",
       "  background-color: #08306b;\n",
       "  color: #f1f1f1;\n",
       "}\n",
       "#T_3cfd0_row0_col3, #T_3cfd0_row1_col2, #T_3cfd0_row2_col0, #T_3cfd0_row2_col1, #T_3cfd0_row2_col2, #T_3cfd0_row3_col0, #T_3cfd0_row3_col2, #T_3cfd0_row3_col3, #T_3cfd0_row4_col2, #T_3cfd0_row5_col2, #T_3cfd0_row6_col2, #T_3cfd0_row7_col2 {\n",
       "  background-color: #f7fbff;\n",
       "  color: #000000;\n",
       "}\n",
       "#T_3cfd0_row1_col0, #T_3cfd0_row1_col1, #T_3cfd0_row5_col0, #T_3cfd0_row5_col1 {\n",
       "  background-color: #f4f9fe;\n",
       "  color: #000000;\n",
       "}\n",
       "#T_3cfd0_row1_col3 {\n",
       "  background-color: #d1e2f3;\n",
       "  color: #000000;\n",
       "}\n",
       "#T_3cfd0_row2_col3 {\n",
       "  background-color: #d5e5f4;\n",
       "  color: #000000;\n",
       "}\n",
       "#T_3cfd0_row3_col1 {\n",
       "  background-color: #f6faff;\n",
       "  color: #000000;\n",
       "}\n",
       "#T_3cfd0_row4_col0 {\n",
       "  background-color: #f5fafe;\n",
       "  color: #000000;\n",
       "}\n",
       "#T_3cfd0_row4_col1 {\n",
       "  background-color: #f5f9fe;\n",
       "  color: #000000;\n",
       "}\n",
       "#T_3cfd0_row4_col3 {\n",
       "  background-color: #ecf4fb;\n",
       "  color: #000000;\n",
       "}\n",
       "#T_3cfd0_row5_col3 {\n",
       "  background-color: #ddeaf7;\n",
       "  color: #000000;\n",
       "}\n",
       "#T_3cfd0_row6_col0 {\n",
       "  background-color: #f2f7fd;\n",
       "  color: #000000;\n",
       "}\n",
       "#T_3cfd0_row6_col1 {\n",
       "  background-color: #f3f8fe;\n",
       "  color: #000000;\n",
       "}\n",
       "#T_3cfd0_row6_col3 {\n",
       "  background-color: #c7dbef;\n",
       "  color: #000000;\n",
       "}\n",
       "#T_3cfd0_row7_col0, #T_3cfd0_row7_col1 {\n",
       "  background-color: #f0f6fd;\n",
       "  color: #000000;\n",
       "}\n",
       "</style>\n",
       "<table id=\"T_3cfd0_\">\n",
       "  <thead>\n",
       "    <tr>\n",
       "      <th class=\"blank level0\" >&nbsp;</th>\n",
       "      <th class=\"col_heading level0 col0\" >age</th>\n",
       "      <th class=\"col_heading level0 col1\" >bmi</th>\n",
       "      <th class=\"col_heading level0 col2\" >children</th>\n",
       "      <th class=\"col_heading level0 col3\" >expenses</th>\n",
       "    </tr>\n",
       "  </thead>\n",
       "  <tbody>\n",
       "    <tr>\n",
       "      <th id=\"T_3cfd0_level0_row0\" class=\"row_heading level0 row0\" >count</th>\n",
       "      <td id=\"T_3cfd0_row0_col0\" class=\"data row0 col0\" >1338.000000</td>\n",
       "      <td id=\"T_3cfd0_row0_col1\" class=\"data row0 col1\" >1338.000000</td>\n",
       "      <td id=\"T_3cfd0_row0_col2\" class=\"data row0 col2\" >1338.000000</td>\n",
       "      <td id=\"T_3cfd0_row0_col3\" class=\"data row0 col3\" >1338.000000</td>\n",
       "    </tr>\n",
       "    <tr>\n",
       "      <th id=\"T_3cfd0_level0_row1\" class=\"row_heading level0 row1\" >mean</th>\n",
       "      <td id=\"T_3cfd0_row1_col0\" class=\"data row1 col0\" >39.207025</td>\n",
       "      <td id=\"T_3cfd0_row1_col1\" class=\"data row1 col1\" >30.665471</td>\n",
       "      <td id=\"T_3cfd0_row1_col2\" class=\"data row1 col2\" >1.094918</td>\n",
       "      <td id=\"T_3cfd0_row1_col3\" class=\"data row1 col3\" >13270.422414</td>\n",
       "    </tr>\n",
       "    <tr>\n",
       "      <th id=\"T_3cfd0_level0_row2\" class=\"row_heading level0 row2\" >std</th>\n",
       "      <td id=\"T_3cfd0_row2_col0\" class=\"data row2 col0\" >14.049960</td>\n",
       "      <td id=\"T_3cfd0_row2_col1\" class=\"data row2 col1\" >6.098382</td>\n",
       "      <td id=\"T_3cfd0_row2_col2\" class=\"data row2 col2\" >1.205493</td>\n",
       "      <td id=\"T_3cfd0_row2_col3\" class=\"data row2 col3\" >12110.011240</td>\n",
       "    </tr>\n",
       "    <tr>\n",
       "      <th id=\"T_3cfd0_level0_row3\" class=\"row_heading level0 row3\" >min</th>\n",
       "      <td id=\"T_3cfd0_row3_col0\" class=\"data row3 col0\" >18.000000</td>\n",
       "      <td id=\"T_3cfd0_row3_col1\" class=\"data row3 col1\" >16.000000</td>\n",
       "      <td id=\"T_3cfd0_row3_col2\" class=\"data row3 col2\" >0.000000</td>\n",
       "      <td id=\"T_3cfd0_row3_col3\" class=\"data row3 col3\" >1121.870000</td>\n",
       "    </tr>\n",
       "    <tr>\n",
       "      <th id=\"T_3cfd0_level0_row4\" class=\"row_heading level0 row4\" >25%</th>\n",
       "      <td id=\"T_3cfd0_row4_col0\" class=\"data row4 col0\" >27.000000</td>\n",
       "      <td id=\"T_3cfd0_row4_col1\" class=\"data row4 col1\" >26.300000</td>\n",
       "      <td id=\"T_3cfd0_row4_col2\" class=\"data row4 col2\" >0.000000</td>\n",
       "      <td id=\"T_3cfd0_row4_col3\" class=\"data row4 col3\" >4740.287500</td>\n",
       "    </tr>\n",
       "    <tr>\n",
       "      <th id=\"T_3cfd0_level0_row5\" class=\"row_heading level0 row5\" >50%</th>\n",
       "      <td id=\"T_3cfd0_row5_col0\" class=\"data row5 col0\" >39.000000</td>\n",
       "      <td id=\"T_3cfd0_row5_col1\" class=\"data row5 col1\" >30.400000</td>\n",
       "      <td id=\"T_3cfd0_row5_col2\" class=\"data row5 col2\" >1.000000</td>\n",
       "      <td id=\"T_3cfd0_row5_col3\" class=\"data row5 col3\" >9382.030000</td>\n",
       "    </tr>\n",
       "    <tr>\n",
       "      <th id=\"T_3cfd0_level0_row6\" class=\"row_heading level0 row6\" >75%</th>\n",
       "      <td id=\"T_3cfd0_row6_col0\" class=\"data row6 col0\" >51.000000</td>\n",
       "      <td id=\"T_3cfd0_row6_col1\" class=\"data row6 col1\" >34.700000</td>\n",
       "      <td id=\"T_3cfd0_row6_col2\" class=\"data row6 col2\" >2.000000</td>\n",
       "      <td id=\"T_3cfd0_row6_col3\" class=\"data row6 col3\" >16639.915000</td>\n",
       "    </tr>\n",
       "    <tr>\n",
       "      <th id=\"T_3cfd0_level0_row7\" class=\"row_heading level0 row7\" >max</th>\n",
       "      <td id=\"T_3cfd0_row7_col0\" class=\"data row7 col0\" >64.000000</td>\n",
       "      <td id=\"T_3cfd0_row7_col1\" class=\"data row7 col1\" >53.100000</td>\n",
       "      <td id=\"T_3cfd0_row7_col2\" class=\"data row7 col2\" >5.000000</td>\n",
       "      <td id=\"T_3cfd0_row7_col3\" class=\"data row7 col3\" >63770.430000</td>\n",
       "    </tr>\n",
       "  </tbody>\n",
       "</table>\n"
      ]
     },
     "metadata": {},
     "execution_count": 8
    }
   ],
   "metadata": {}
  },
  {
   "cell_type": "code",
   "execution_count": 20,
   "source": [
    "# lets check the distribution of smoker, children and region\r\n",
    "\r\n",
    "plt.subplot(1, 3, 1)\r\n",
    "plt.pie(data['smoker'].value_counts().values,\r\n",
    "        labels = data['smoker'].value_counts().index,\r\n",
    "        colors = ['gold','silver'],\r\n",
    "        startangle = 90,\r\n",
    "        shadow = True,\r\n",
    "       explode = [0.1, 0])\r\n",
    "\r\n",
    "plt.subplot(1, 3, 2)\r\n",
    "sns.countplot(data['children'], palette = 'magma')\r\n",
    "plt.grid()\r\n",
    "\r\n",
    "plt.subplot(1, 3, 3)\r\n",
    "plt.pie(data['region'].value_counts().values,\r\n",
    "        labels = data['region'].value_counts().index,\r\n",
    "        colors = ['gold','silver','grey','black'],\r\n",
    "        startangle = 90,\r\n",
    "        shadow = True,\r\n",
    "       explode = [0.1, 0, 0, 0])\r\n",
    "plt.suptitle('Distribution of Smoker, Children and Regions', fontsize = 15)\r\n",
    "plt.show()"
   ],
   "outputs": [
    {
     "output_type": "stream",
     "name": "stderr",
     "text": [
      "C:\\Users\\sks4u\\AppData\\Local\\Programs\\Python\\Python39\\lib\\site-packages\\seaborn\\_decorators.py:36: FutureWarning: Pass the following variable as a keyword arg: x. From version 0.12, the only valid positional argument will be `data`, and passing other arguments without an explicit keyword will result in an error or misinterpretation.\n",
      "  warnings.warn(\n"
     ]
    },
    {
     "output_type": "display_data",
     "data": {
      "text/plain": [
       "<Figure size 460.8x316.8 with 3 Axes>"
      ],
      "image/png": "[encoded data removed]"
     },
     "metadata": {}
    }
   ],
   "metadata": {}
  }
 ],
 "metadata": {
  "orig_nbformat": 4,
  "language_info": {
   "name": "python",
   "version": "3.9.5",
   "mimetype": "text/x-python",
   "codemirror_mode": {
    "name": "ipython",
    "version": 3
   },
   "pygments_lexer": "ipython3",
   "nbconvert_exporter": "python",
   "file_extension": ".py"
  },
  "kernelspec": {
   "name": "python3",
   "display_name": "Python 3.9.5 64-bit"
  },
  "interpreter": {
   "hash": "349fa99260b57ee1fbf59b6ab239d73af329deaad73a50d9da700240410fb0c3"
  }
 },
 "nbformat": 4,
 "nbformat_minor": 2
}